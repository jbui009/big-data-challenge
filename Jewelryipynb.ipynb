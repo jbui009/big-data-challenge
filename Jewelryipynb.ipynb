{
  "nbformat": 4,
  "nbformat_minor": 0,
  "metadata": {
    "colab": {
      "name": "Jewelryipynb",
      "provenance": [],
      "collapsed_sections": [],
      "authorship_tag": "ABX9TyPuge4xbrD8WHPq+maSmz+s",
      "include_colab_link": true
    },
    "kernelspec": {
      "name": "python3",
      "display_name": "Python 3"
    },
    "language_info": {
      "name": "python"
    }
  },
  "cells": [
    {
      "cell_type": "markdown",
      "metadata": {
        "id": "view-in-github",
        "colab_type": "text"
      },
      "source": [
        "<a href=\"https://colab.research.google.com/github/jbui009/big-data-challenge/blob/main/Jewelryipynb.ipynb\" target=\"_parent\"><img src=\"https://colab.research.google.com/assets/colab-badge.svg\" alt=\"Open In Colab\"/></a>"
      ]
    },
    {
      "cell_type": "code",
      "execution_count": 1,
      "metadata": {
        "id": "whbd7BiNXLBf",
        "colab": {
          "base_uri": "https://localhost:8080/"
        },
        "outputId": "ce2857ef-eb6c-4b61-8aea-1bc56ee50a4e"
      },
      "outputs": [
        {
          "output_type": "stream",
          "name": "stdout",
          "text": [
            "\r0% [Working]\r            \rHit:1 https://cloud.r-project.org/bin/linux/ubuntu bionic-cran40/ InRelease\n",
            "\r0% [Connecting to archive.ubuntu.com (91.189.88.142)] [Connecting to security.u\r0% [1 InRelease gpgv 3,626 B] [Connecting to archive.ubuntu.com (91.189.88.142)\r                                                                               \rIgn:2 https://developer.download.nvidia.com/compute/cuda/repos/ubuntu1804/x86_64  InRelease\n",
            "Get:3 http://security.ubuntu.com/ubuntu bionic-security InRelease [88.7 kB]\n",
            "Ign:4 https://developer.download.nvidia.com/compute/machine-learning/repos/ubuntu1804/x86_64  InRelease\n",
            "Hit:5 http://ppa.launchpad.net/c2d4u.team/c2d4u4.0+/ubuntu bionic InRelease\n",
            "Hit:6 https://developer.download.nvidia.com/compute/cuda/repos/ubuntu1804/x86_64  Release\n",
            "Hit:7 https://developer.download.nvidia.com/compute/machine-learning/repos/ubuntu1804/x86_64  Release\n",
            "Hit:8 http://archive.ubuntu.com/ubuntu bionic InRelease\n",
            "Hit:9 http://archive.ubuntu.com/ubuntu bionic-updates InRelease\n",
            "Hit:10 http://ppa.launchpad.net/cran/libgit2/ubuntu bionic InRelease\n",
            "Hit:11 http://archive.ubuntu.com/ubuntu bionic-backports InRelease\n",
            "Hit:12 http://ppa.launchpad.net/deadsnakes/ppa/ubuntu bionic InRelease\n",
            "Hit:15 http://ppa.launchpad.net/graphics-drivers/ppa/ubuntu bionic InRelease\n",
            "Fetched 88.7 kB in 2s (37.5 kB/s)\n",
            "Reading package lists... Done\n"
          ]
        }
      ],
      "source": [
        "import os\n",
        "# Find the latest version of spark 3.0  from http://www.apache.org/dist/spark/ and enter as the spark version\n",
        "# For example:\n",
        "# spark_version = 'spark-3.0.3'\n",
        "spark_version = 'spark-3.0.3'\n",
        "os.environ['SPARK_VERSION']=spark_version\n",
        "\n",
        "# Install Spark and Java\n",
        "!apt-get update\n",
        "!apt-get install openjdk-11-jdk-headless -qq > /dev/null\n",
        "!wget -q http://www.apache.org/dist/spark/$SPARK_VERSION/$SPARK_VERSION-bin-hadoop2.7.tgz\n",
        "!tar xf $SPARK_VERSION-bin-hadoop2.7.tgz\n",
        "!pip install -q findspark\n",
        "\n",
        "# Set Environment Variables\n",
        "import os\n",
        "os.environ[\"JAVA_HOME\"] = \"/usr/lib/jvm/java-11-openjdk-amd64\"\n",
        "os.environ[\"SPARK_HOME\"] = f\"/content/{spark_version}-bin-hadoop2.7\"\n",
        "\n",
        "# Start a SparkSession\n",
        "import findspark\n",
        "findspark.init()"
      ]
    },
    {
      "cell_type": "code",
      "source": [
        "from sqlalchemy import create_engine\n",
        "import pandas as pd\n"
      ],
      "metadata": {
        "id": "YNHZbSWJTKG2"
      },
      "execution_count": 2,
      "outputs": []
    },
    {
      "cell_type": "code",
      "source": [
        "from sqlalchemy import create_engine\n",
        "import pandas as pd\n"
      ],
      "metadata": {
        "id": "jMaX7CczTNgA"
      },
      "execution_count": 3,
      "outputs": []
    },
    {
      "cell_type": "code",
      "source": [
        " !wget https://jdbc.postgresql.org/download/postgresql-42.2.9.jar"
      ],
      "metadata": {
        "colab": {
          "base_uri": "https://localhost:8080/"
        },
        "id": "Uwh66rZZTP8F",
        "outputId": "332401b2-7830-4597-cd3a-11faa0668c09"
      },
      "execution_count": 4,
      "outputs": [
        {
          "output_type": "stream",
          "name": "stdout",
          "text": [
            "--2022-03-01 00:47:42--  https://jdbc.postgresql.org/download/postgresql-42.2.9.jar\n",
            "Resolving jdbc.postgresql.org (jdbc.postgresql.org)... 72.32.157.228, 2001:4800:3e1:1::228\n",
            "Connecting to jdbc.postgresql.org (jdbc.postgresql.org)|72.32.157.228|:443... connected.\n",
            "HTTP request sent, awaiting response... 200 OK\n",
            "Length: 914037 (893K) [application/java-archive]\n",
            "Saving to: ‘postgresql-42.2.9.jar.2’\n",
            "\n",
            "postgresql-42.2.9.j 100%[===================>] 892.61K  --.-KB/s    in 0.08s   \n",
            "\n",
            "2022-03-01 00:47:42 (10.7 MB/s) - ‘postgresql-42.2.9.jar.2’ saved [914037/914037]\n",
            "\n"
          ]
        }
      ]
    },
    {
      "cell_type": "code",
      "source": [
        "from pyspark.sql import SparkSession\n",
        "spark = SparkSession.builder.appName(\"JewelryCloudETL\").config(\"spark.driver.extraClassPath\",\"/content/postgresql-42.2.9.jar\").getOrCreate()"
      ],
      "metadata": {
        "id": "g5POJtbUTT6e"
      },
      "execution_count": 5,
      "outputs": []
    },
    {
      "cell_type": "code",
      "source": [
        "from pyspark.sql.types import StructField, StringType, IntegerType, StructType, DateType\n",
        "\n",
        "schema = [StructField(\"marketplace\", StringType(), True),\n",
        "          StructField(\"customer_id\", IntegerType(), True),\n",
        "          StructField(\"review_id\", StringType(), True),\n",
        "          StructField(\"product_id\", StringType(), True),\n",
        "          StructField(\"product_parent\", IntegerType(), True),\n",
        "          StructField(\"product_title\", StringType(), True),\n",
        "          StructField(\"product_category\", StringType(), True),\n",
        "          StructField(\"star_rating\", IntegerType(), True),\n",
        "          StructField(\"helpful_votes\", IntegerType(), True),\n",
        "          StructField(\"total_votes\", IntegerType(), True),\n",
        "          StructField(\"vine\", StringType(), True),\n",
        "          StructField(\"verified_purchase\", StringType(), True),\n",
        "          StructField(\"review_headline\", StringType(), True),\n",
        "          StructField(\"review_body\", StringType(), True),\n",
        "          StructField(\"review_date\", DateType(), True),]\n",
        "\n",
        "final=StructType(fields=schema)\n"
      ],
      "metadata": {
        "id": "yGYyH0BLtcCl"
      },
      "execution_count": 6,
      "outputs": []
    },
    {
      "cell_type": "code",
      "source": [
        "from pyspark import SparkFiles\n",
        "url =\"https://s3.amazonaws.com/amazon-reviews-pds/tsv/amazon_reviews_us_Jewelry_v1_00.tsv.gz\"\n",
        "spark.sparkContext.addFile(url)\n",
        "df = spark.read.csv(SparkFiles.get(\"amazon_reviews_us_Jewelry_v1_00.tsv.gz\"), sep=\"\\t\", header=True)\n",
        "\n",
        "df.show(5)"
      ],
      "metadata": {
        "colab": {
          "base_uri": "https://localhost:8080/"
        },
        "id": "-xdW2FW5TVGH",
        "outputId": "11925c72-cb7f-4155-a678-cc9d5574013e"
      },
      "execution_count": 7,
      "outputs": [
        {
          "output_type": "stream",
          "name": "stdout",
          "text": [
            "+-----------+-----------+--------------+----------+--------------+--------------------+----------------+-----------+-------------+-----------+----+-----------------+--------------------+--------------------+-----------+\n",
            "|marketplace|customer_id|     review_id|product_id|product_parent|       product_title|product_category|star_rating|helpful_votes|total_votes|vine|verified_purchase|     review_headline|         review_body|review_date|\n",
            "+-----------+-----------+--------------+----------+--------------+--------------------+----------------+-----------+-------------+-----------+----+-----------------+--------------------+--------------------+-----------+\n",
            "|         US|   50423057|R135Q3VZ4DQN5N|B00JWXFDMG|     657335467|Everbling Purple ...|         Jewelry|          5|            0|          0|   N|                Y|           Beauties!|so beautiful even...| 2015-08-31|\n",
            "|         US|   11262325|R2N0QQ6R4T7YRY|B00W5T1H9W|      26030170|925 Sterling Silv...|         Jewelry|          5|            0|          0|   N|                N|      Great product.|Great product.. I...| 2015-08-31|\n",
            "|         US|   27541121|R3N5JE5Y4T6W5M|B00M2L6KFY|     697845240|Sterling Silver C...|         Jewelry|          5|            0|          0|   N|                Y|Exactly as pictur...|Exactly as pictur...| 2015-08-31|\n",
            "|         US|    5350721|R2I150CX5IVY9Q|B0006SW2WU|     569859289|Surgical Stainles...|         Jewelry|          5|            0|          0|   N|                Y|          Five Stars|Love it. Fits gre...| 2015-08-31|\n",
            "|         US|   24484424|R1RM9ICOOA9MQ3|B009YPDW70|     332947422|Sterling Silver F...|         Jewelry|          5|            0|          0|   N|                Y|... a Mother's Da...|Got this as a Mot...| 2015-08-31|\n",
            "+-----------+-----------+--------------+----------+--------------+--------------------+----------------+-----------+-------------+-----------+----+-----------------+--------------------+--------------------+-----------+\n",
            "only showing top 5 rows\n",
            "\n"
          ]
        }
      ]
    },
    {
      "cell_type": "code",
      "source": [
        "print(df.count())\n",
        "df =df.dropna();\n",
        "print(df.count())"
      ],
      "metadata": {
        "colab": {
          "base_uri": "https://localhost:8080/"
        },
        "id": "ta6t1LajTU99",
        "outputId": "092fa204-a92b-4897-97d2-b74ec986a628"
      },
      "execution_count": 8,
      "outputs": [
        {
          "output_type": "stream",
          "name": "stdout",
          "text": [
            "1767753\n",
            "1767394\n"
          ]
        }
      ]
    },
    {
      "cell_type": "code",
      "source": [
        "df.printSchema()"
      ],
      "metadata": {
        "colab": {
          "base_uri": "https://localhost:8080/"
        },
        "id": "J2murokGTU0s",
        "outputId": "aa7d1aea-dcfa-4969-95c0-c72fbfb99850"
      },
      "execution_count": 9,
      "outputs": [
        {
          "output_type": "stream",
          "name": "stdout",
          "text": [
            "root\n",
            " |-- marketplace: string (nullable = true)\n",
            " |-- customer_id: string (nullable = true)\n",
            " |-- review_id: string (nullable = true)\n",
            " |-- product_id: string (nullable = true)\n",
            " |-- product_parent: string (nullable = true)\n",
            " |-- product_title: string (nullable = true)\n",
            " |-- product_category: string (nullable = true)\n",
            " |-- star_rating: string (nullable = true)\n",
            " |-- helpful_votes: string (nullable = true)\n",
            " |-- total_votes: string (nullable = true)\n",
            " |-- vine: string (nullable = true)\n",
            " |-- verified_purchase: string (nullable = true)\n",
            " |-- review_headline: string (nullable = true)\n",
            " |-- review_body: string (nullable = true)\n",
            " |-- review_date: string (nullable = true)\n",
            "\n"
          ]
        }
      ]
    },
    {
      "cell_type": "code",
      "source": [
        "customers_df = df.select(\"customer_id\").groupBy(\"customer_id\").count().withColumnRenamed(\"count\",\"customer_count\")\n",
        "customers_df.show()"
      ],
      "metadata": {
        "colab": {
          "base_uri": "https://localhost:8080/"
        },
        "id": "duVJL5pQtr-X",
        "outputId": "6db1abe2-d379-426d-b767-e0eca15f26e2"
      },
      "execution_count": 10,
      "outputs": [
        {
          "output_type": "stream",
          "name": "stdout",
          "text": [
            "+-----------+--------------+\n",
            "|customer_id|customer_count|\n",
            "+-----------+--------------+\n",
            "|   22279960|             1|\n",
            "|   51290010|             1|\n",
            "|    1354679|             1|\n",
            "|   44662810|             3|\n",
            "|    7763633|             1|\n",
            "|    2994816|             1|\n",
            "|    5884899|             3|\n",
            "|   47822294|             1|\n",
            "|   13801937|             1|\n",
            "|    5263722|             2|\n",
            "|     216438|             1|\n",
            "|    7199609|             1|\n",
            "|   23224071|             1|\n",
            "|   21118239|            10|\n",
            "|   26246534|             1|\n",
            "|     829118|             1|\n",
            "|   44517006|             1|\n",
            "|   24325719|             1|\n",
            "|    1716767|             2|\n",
            "|   10600983|             1|\n",
            "+-----------+--------------+\n",
            "only showing top 20 rows\n",
            "\n"
          ]
        }
      ]
    },
    {
      "cell_type": "code",
      "source": [
        "customers_df.printSchema()"
      ],
      "metadata": {
        "colab": {
          "base_uri": "https://localhost:8080/"
        },
        "id": "5Tk0tZE8tseb",
        "outputId": "2edd67e7-025e-4a23-9e0a-5768e051462b"
      },
      "execution_count": 11,
      "outputs": [
        {
          "output_type": "stream",
          "name": "stdout",
          "text": [
            "root\n",
            " |-- customer_id: string (nullable = true)\n",
            " |-- customer_count: long (nullable = false)\n",
            "\n"
          ]
        }
      ]
    },
    {
      "cell_type": "code",
      "source": [
        "from pyspark.sql import Row\n",
        "products_df = df.dropDuplicates(([\"product_id\"])).select(\"product_id\", \"product_title\")\n",
        "\n",
        "products_df.show(truncate=False)"
      ],
      "metadata": {
        "colab": {
          "base_uri": "https://localhost:8080/"
        },
        "id": "iKfRud5stulm",
        "outputId": "ef71c5e7-9cb8-4541-bca4-f4fc2c8f836d"
      },
      "execution_count": 12,
      "outputs": [
        {
          "output_type": "stream",
          "name": "stdout",
          "text": [
            "+----------+------------------------------------------------------------------------------+\n",
            "|product_id|product_title                                                                 |\n",
            "+----------+------------------------------------------------------------------------------+\n",
            "|1438809484|Twilight New Moon Book Bracelet Edward with Bella                             |\n",
            "|B00006C7GQ|Coral and Turquoise Jewelry Bracelets                                         |\n",
            "|B00006JMZ8|Delicate Gem Necklace - Citrine                                               |\n",
            "|B00007G9BS|14K Cultured (Akoya) Pearl Leverback Earrings                                 |\n",
            "|B00009EOU4|14K White Gold Diamond Initial (1/10 Carat) C Pendant w/Chain                 |\n",
            "|B00009MEOI|Multi-Colored Jade Ring Set Size 8                                            |\n",
            "|B0000ATBZZ|Akoya Cultured Pearl 6.5-7.0mm Earrings                                       |\n",
            "|B0000AWSIN|Platinum 4mm Comfort Fit Milgrain Plain Wedding Band                          |\n",
            "|B0000AWVWC|14k Yellow Gold 4mm Milgrain Half Round Plain Wedding Band                    |\n",
            "|B0000AZ14W|14k Yellow Gold Channel Set 3.0mm Square Multi-Color Gemstone Ring, Size 7    |\n",
            "|B0000B35EA|14k Yellow Gold Small Heart Button Earrings                                   |\n",
            "|B0000BUX4T|14k Yellow Gold Diamond-Cut \"Sweet 15\" Heart Charm                            |\n",
            "|B0000D879M|Sterling Silver San Marco Genuine Sapphire and Genuine Diamond Accent Bracelet|\n",
            "|B0000VRX22|Liquid Gem and Jewelry Cleaner                                                |\n",
            "|B0000W57JM|1/4 ct.tw Round Diamond Solitaire Pendant in 18 kt. Yellow Gold               |\n",
            "|B0000X7L8Q|Smokey Quartz & Diamond 14K Gold Ring                                         |\n",
            "|B0000X7LDQ|Pear Shape Blue Topaz & Diamond 14K White Gold Ring - CLEARANCE               |\n",
            "|B00012CVVI|Men's 14k Two-Tone 6mm Engraved Plain Wedding Band                            |\n",
            "|B00013N06C|Wellesley College Blue \"Seal\" Pendant - Sterling Silver Jewelry               |\n",
            "|B00014GNEM|Ladies 3 Stone Round Diamond Pendant on Chain 1.00cttw                        |\n",
            "+----------+------------------------------------------------------------------------------+\n",
            "only showing top 20 rows\n",
            "\n"
          ]
        }
      ]
    },
    {
      "cell_type": "code",
      "source": [
        "products_df.printSchema()"
      ],
      "metadata": {
        "colab": {
          "base_uri": "https://localhost:8080/"
        },
        "id": "2P-xm9bLtx5V",
        "outputId": "5773606b-78ca-44f1-f494-48a8e5cba450"
      },
      "execution_count": 13,
      "outputs": [
        {
          "output_type": "stream",
          "name": "stdout",
          "text": [
            "root\n",
            " |-- product_id: string (nullable = true)\n",
            " |-- product_title: string (nullable = true)\n",
            "\n"
          ]
        }
      ]
    },
    {
      "cell_type": "code",
      "source": [
        "review_id_df = df.select(\"review_id\", \"customer_id\", \"product_id\", \"product_parent\", \"review_date\")\n",
        "review_id_df.show(truncate=False)"
      ],
      "metadata": {
        "colab": {
          "base_uri": "https://localhost:8080/"
        },
        "id": "_avu038Ptzug",
        "outputId": "c3599c1e-db06-4e31-e185-505d3b639b30"
      },
      "execution_count": 14,
      "outputs": [
        {
          "output_type": "stream",
          "name": "stdout",
          "text": [
            "+--------------+-----------+----------+--------------+-----------+\n",
            "|review_id     |customer_id|product_id|product_parent|review_date|\n",
            "+--------------+-----------+----------+--------------+-----------+\n",
            "|R135Q3VZ4DQN5N|50423057   |B00JWXFDMG|657335467     |2015-08-31 |\n",
            "|R2N0QQ6R4T7YRY|11262325   |B00W5T1H9W|26030170      |2015-08-31 |\n",
            "|R3N5JE5Y4T6W5M|27541121   |B00M2L6KFY|697845240     |2015-08-31 |\n",
            "|R2I150CX5IVY9Q|5350721    |B0006SW2WU|569859289     |2015-08-31 |\n",
            "|R1RM9ICOOA9MQ3|24484424   |B009YPDW70|332947422     |2015-08-31 |\n",
            "|R2J2KMDL10UMSH|457767     |B00QGA8XZM|424804582     |2015-08-31 |\n",
            "|R3R9ZUFA4TB4FQ|31009358   |B00L0N0E8E|589441783     |2015-08-31 |\n",
            "|R3UQ8VAQN7R6WL|7034628    |B00DMWQKWA|517428445     |2015-08-31 |\n",
            "|R1FXZ69C01JNQM|34608636   |B00THLHAGA|320313750     |2015-08-31 |\n",
            "|RY36LB4OW0FFS |44972687   |B00UXSEOHY|589365488     |2015-08-31 |\n",
            "|R6PKS54PC6ZY2 |16684508   |B00XGRYGVS|217045013     |2015-08-31 |\n",
            "|R1LYSAH0IECVWB|23493178   |B00AJ2VU8A|972853757     |2015-08-31 |\n",
            "|R1UN0IZI3XQ3E2|108294     |B00LE5Y100|979375701     |2015-08-31 |\n",
            "|RIKDXD8QGL99S |25810742   |B013E0AOH6|619592796     |2015-08-31 |\n",
            "|RUZCQTXZVGUFH |12037665   |B00XAWUP96|783863439     |2015-08-31 |\n",
            "|R35CD4IHO3RP9H|51793466   |B00WD82F1O|655270378     |2015-08-31 |\n",
            "|R13YD66XC9221U|127508     |B00JP4XCSO|592155747     |2015-08-31 |\n",
            "|RHWG4JRVDSEYY |38430946   |B00PZSM384|622179716     |2015-08-31 |\n",
            "|R3SPIKMJ5IWHX8|33684654   |B00VLMW18K|36759824      |2015-08-31 |\n",
            "|RS19ACU7KWWNE |5068631    |B00U5LDBB4|575109200     |2015-08-31 |\n",
            "+--------------+-----------+----------+--------------+-----------+\n",
            "only showing top 20 rows\n",
            "\n"
          ]
        }
      ]
    },
    {
      "cell_type": "code",
      "source": [
        "review_id_df.printSchema()"
      ],
      "metadata": {
        "colab": {
          "base_uri": "https://localhost:8080/"
        },
        "id": "-M-EI1JUt00j",
        "outputId": "41025cc1-3c4f-4bdf-caa8-1afb1bd4c367"
      },
      "execution_count": 15,
      "outputs": [
        {
          "output_type": "stream",
          "name": "stdout",
          "text": [
            "root\n",
            " |-- review_id: string (nullable = true)\n",
            " |-- customer_id: string (nullable = true)\n",
            " |-- product_id: string (nullable = true)\n",
            " |-- product_parent: string (nullable = true)\n",
            " |-- review_date: string (nullable = true)\n",
            "\n"
          ]
        }
      ]
    },
    {
      "cell_type": "code",
      "source": [
        "from pyspark.sql.functions import to_date\n",
        "review_id_df = review_id_df.withColumnRenamed(\"review_date\",\"date_str\")\n",
        "review_id_df = review_id_df.withColumn(\"review_date\", to_date(review_id_df[\"date_str\"])).select(\"review_id\",\"customer_id\",\"product_id\",\"product_parent\",\"review_date\")\n",
        "review_id_df.printSchema()"
      ],
      "metadata": {
        "colab": {
          "base_uri": "https://localhost:8080/"
        },
        "id": "E2zKfanHt4hA",
        "outputId": "7554689d-0c39-4442-e8c8-1a625a22d042"
      },
      "execution_count": 16,
      "outputs": [
        {
          "output_type": "stream",
          "name": "stdout",
          "text": [
            "root\n",
            " |-- review_id: string (nullable = true)\n",
            " |-- customer_id: string (nullable = true)\n",
            " |-- product_id: string (nullable = true)\n",
            " |-- product_parent: string (nullable = true)\n",
            " |-- review_date: date (nullable = true)\n",
            "\n"
          ]
        }
      ]
    },
    {
      "cell_type": "code",
      "source": [
        "vine_table_df = df.select(\"review_id\", \"star_rating\", \"helpful_votes\", \"total_votes\", \"vine\")\n",
        "vine_table_df.show(truncate=False)"
      ],
      "metadata": {
        "colab": {
          "base_uri": "https://localhost:8080/"
        },
        "id": "eYmQsKUit8F7",
        "outputId": "78c790ee-9c7c-43f5-f9f6-5ee16a106308"
      },
      "execution_count": 17,
      "outputs": [
        {
          "output_type": "stream",
          "name": "stdout",
          "text": [
            "+--------------+-----------+-------------+-----------+----+\n",
            "|review_id     |star_rating|helpful_votes|total_votes|vine|\n",
            "+--------------+-----------+-------------+-----------+----+\n",
            "|R135Q3VZ4DQN5N|5          |0            |0          |N   |\n",
            "|R2N0QQ6R4T7YRY|5          |0            |0          |N   |\n",
            "|R3N5JE5Y4T6W5M|5          |0            |0          |N   |\n",
            "|R2I150CX5IVY9Q|5          |0            |0          |N   |\n",
            "|R1RM9ICOOA9MQ3|5          |0            |0          |N   |\n",
            "|R2J2KMDL10UMSH|5          |0            |0          |N   |\n",
            "|R3R9ZUFA4TB4FQ|5          |0            |0          |N   |\n",
            "|R3UQ8VAQN7R6WL|5          |0            |0          |N   |\n",
            "|R1FXZ69C01JNQM|5          |0            |0          |N   |\n",
            "|RY36LB4OW0FFS |5          |0            |0          |N   |\n",
            "|R6PKS54PC6ZY2 |1          |4            |4          |N   |\n",
            "|R1LYSAH0IECVWB|5          |0            |0          |N   |\n",
            "|R1UN0IZI3XQ3E2|5          |2            |3          |N   |\n",
            "|RIKDXD8QGL99S |5          |1            |1          |N   |\n",
            "|RUZCQTXZVGUFH |4          |1            |1          |N   |\n",
            "|R35CD4IHO3RP9H|5          |1            |1          |N   |\n",
            "|R13YD66XC9221U|1          |0            |0          |N   |\n",
            "|RHWG4JRVDSEYY |3          |1            |1          |N   |\n",
            "|R3SPIKMJ5IWHX8|4          |0            |0          |N   |\n",
            "|RS19ACU7KWWNE |5          |1            |1          |N   |\n",
            "+--------------+-----------+-------------+-----------+----+\n",
            "only showing top 20 rows\n",
            "\n"
          ]
        }
      ]
    },
    {
      "cell_type": "code",
      "source": [
        "vine_table_df.printSchema()"
      ],
      "metadata": {
        "colab": {
          "base_uri": "https://localhost:8080/"
        },
        "id": "WnJ6PR9zt_CP",
        "outputId": "3c9c55ef-9c2d-4a68-f090-c8a189a8df2d"
      },
      "execution_count": 18,
      "outputs": [
        {
          "output_type": "stream",
          "name": "stdout",
          "text": [
            "root\n",
            " |-- review_id: string (nullable = true)\n",
            " |-- star_rating: string (nullable = true)\n",
            " |-- helpful_votes: string (nullable = true)\n",
            " |-- total_votes: string (nullable = true)\n",
            " |-- vine: string (nullable = true)\n",
            "\n"
          ]
        }
      ]
    },
    {
      "cell_type": "code",
      "source": [
        "# Protect password\n",
        "from getpass import getpass\n",
        "password = getpass('password')"
      ],
      "metadata": {
        "colab": {
          "base_uri": "https://localhost:8080/"
        },
        "id": "8jGV4TQNIInV",
        "outputId": "9064de2a-b774-4ee0-8c3f-6608d2755f35"
      },
      "execution_count": 22,
      "outputs": [
        {
          "name": "stdout",
          "output_type": "stream",
          "text": [
            "password··········\n"
          ]
        }
      ]
    },
    {
      "cell_type": "code",
      "source": [
        "mode = \"append\"\n",
        "jdbc_url=\"jdbc:postgresql://mydbinstance.ccn4uoh5hvud.us-east-1.rds.amazonaws.com:5432/my_data_class_db\"\n",
        "configuration = {\"user\": \"postgres\", \n",
        "          \"password\": password, \n",
        "          \"driver\": \"org.postgresql.Driver\"}"
      ],
      "metadata": {
        "id": "UhVhzxYQutah"
      },
      "execution_count": 23,
      "outputs": []
    },
    {
      "cell_type": "code",
      "source": [
        "review_id_df.write.jdbc(url=jdbc_url, table='review_id_table', mode=mode, properties=configuration)"
      ],
      "metadata": {
        "id": "B91sDHqrvpRg"
      },
      "execution_count": 24,
      "outputs": []
    },
    {
      "cell_type": "code",
      "source": [
        "products_df.write.jdbc(url=jdbc_url, table='products', mode=mode, properties=configuration)"
      ],
      "metadata": {
        "id": "UhjO0j99vkUu"
      },
      "execution_count": 25,
      "outputs": []
    },
    {
      "cell_type": "code",
      "source": [
        "customers_df.write.jdbc(url=jdbc_url, table='customers', mode=mode, properties=configuration)"
      ],
      "metadata": {
        "id": "-yYpk2IJvmvY"
      },
      "execution_count": 27,
      "outputs": []
    },
    {
      "cell_type": "code",
      "source": [
        "vine_table_df.write.jdbc(url=jdbc_url, table='vine_table', mode=mode, properties=configuration)"
      ],
      "metadata": {
        "id": "chbHmlIBvoZL"
      },
      "execution_count": 32,
      "outputs": []
    }
  ]
}